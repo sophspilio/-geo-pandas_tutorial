{
  "nbformat": 4,
  "nbformat_minor": 0,
  "metadata": {
    "colab": {
      "name": "pandas_tutorial.ipynb",
      "provenance": [],
      "authorship_tag": "ABX9TyN60wb9ev6ToG6dvLEJL38W",
      "include_colab_link": true
    },
    "kernelspec": {
      "name": "python3",
      "display_name": "Python 3"
    }
  },
  "cells": [
    {
      "cell_type": "markdown",
      "metadata": {
        "id": "view-in-github",
        "colab_type": "text"
      },
      "source": [
        "<a href=\"https://colab.research.google.com/github/sophspilio/-geo-pandas_tutorial/blob/main/pandas_tutorial.ipynb\" target=\"_parent\"><img src=\"https://colab.research.google.com/assets/colab-badge.svg\" alt=\"Open In Colab\"/></a>"
      ]
    },
    {
      "cell_type": "markdown",
      "metadata": {
        "id": "Lbs2um03r_Ru"
      },
      "source": [
        "# Pandas!!! don't just eat bamboo \n",
        "### A Tutorial\n",
        "🐼🐍🐼🐍\n"
      ]
    },
    {
      "cell_type": "markdown",
      "metadata": {
        "id": "NpOtQthmsbki"
      },
      "source": [
        "\n",
        "### Sources\n",
        "[Pandas Documentation ](https://pandas.pydata.org/docs/getting_started/index.html)\n",
        "\n",
        "[User Guide](https://pandas.pydata.org/pandas-docs/stable/user_guide/index.html) \n",
        "\n",
        "[Helpful Tutorial Overview](https://www.shanelynn.ie/using-pandas-dataframe-creating-editing-viewing-data-in-python/)\n",
        "\n",
        "[Plotting](https://pandas.pydata.org/pandas-docs/stable/user_guide/visualization.html) \n",
        "\n",
        "[NPS Projections in Geopandas](https://stackoverflow.com/questions/55646598/polar-stereographic-projection-of-geopandas-world-map)\n",
        "\n",
        "[Geopandas Map Making](https://geopandas.org/mapping.html) \n"
      ]
    },
    {
      "cell_type": "markdown",
      "metadata": {
        "id": "K7H9u7r01uxV"
      },
      "source": [
        "# Importing and Reading using Pandas "
      ]
    },
    {
      "cell_type": "code",
      "metadata": {
        "id": "y2dSGy6Srw7F"
      },
      "source": [
        "!pip install geopandas #install geopandas\n",
        "#import libraries\n",
        "import pandas as pd\n",
        "import geopandas as gpd"
      ],
      "execution_count": null,
      "outputs": []
    },
    {
      "cell_type": "code",
      "metadata": {
        "id": "5VAZQsd-wQ9P"
      },
      "source": [
        "#Create a dictionary of a database \n",
        "dict = {\"country\": [\"Brazil\", \"Russia\", \"India\", \"China\", \"South Africa\"],\n",
        "       \"capital\": [\"Brasilia\", \"Moscow\", \"New Dehli\", \"Beijing\", \"Pretoria\"],\n",
        "       \"area\": [8.516, 17.10, 3.286, 9.597, 1.221],\n",
        "       \"population\": [200.4, 143.5, 1252, 1357, 52.98] }\n",
        "\n",
        "#print out tab data \n",
        "brics = pd.DataFrame(dict)\n",
        "print(brics)"
      ],
      "execution_count": null,
      "outputs": []
    },
    {
      "cell_type": "code",
      "metadata": {
        "id": "_4yFNm0n3A5N"
      },
      "source": [
        "from google.colab import drive \n",
        "drive.mount('/content/gdrive') \n",
        "root_path = 'gdrive/My Drive/(geo)pandas_tutorial_final/' # set root path"
      ],
      "execution_count": null,
      "outputs": []
    },
    {
      "cell_type": "code",
      "metadata": {
        "id": "xIp-74BbzFOr"
      },
      "source": [
        "#import .csv and call the data \n",
        "spm19 = pd.read_csv(root_path+\"spm19_proc_blanks.csv\")\n",
        "mean_sic = pd.read_csv(root_path+\"1981-2010_SIC_Daily.csv\")"
      ],
      "execution_count": 3,
      "outputs": []
    },
    {
      "cell_type": "code",
      "metadata": {
        "id": "2vt2NZ8c0xc7"
      },
      "source": [
        "#call the first 4 rows\n",
        "#use .head() to start from the beginning of the data, use .tail() to start at the end \n",
        "spm19.head(4)\n",
        "\n",
        "#check data types for all columns \n",
        "spm19.dtypes \n",
        "\n",
        "#find more detailed info on the data \n",
        "spm19.info()"
      ],
      "execution_count": null,
      "outputs": []
    },
    {
      "cell_type": "code",
      "metadata": {
        "id": "FRfmxwQO26eh"
      },
      "source": [
        "#descriptive statistics of data frame \n",
        "spm19.describe()\n",
        "#to call a specific column\n",
        "spm19[\"Pre-Weight 1\"].describe()"
      ],
      "execution_count": null,
      "outputs": []
    },
    {
      "cell_type": "markdown",
      "metadata": {
        "id": "uhp8AAZG_JHi"
      },
      "source": [
        "[.loc vs .iloc](https://www.analyticsvidhya.com/blog/2020/02/loc-iloc-pandas/) \n",
        "\n",
        "**loc** needs the *name* of the row and column to be filtered \n",
        "\n",
        "**iloc** inedex based, *index* using integer index "
      ]
    },
    {
      "cell_type": "code",
      "metadata": {
        "id": "aYS1NFqU-XNc"
      },
      "source": [
        "#selecting specific rows and columns using indexes \n",
        "spm19.iloc [3:7,4:]\n",
        "#can assign new values to specific cells \n",
        "#spm19.iloc[0:3,3] = \"invalid\""
      ],
      "execution_count": null,
      "outputs": []
    },
    {
      "cell_type": "markdown",
      "metadata": {
        "id": "d-ojktHf4D80"
      },
      "source": [
        "# Maniuplating the Data "
      ]
    },
    {
      "cell_type": "code",
      "metadata": {
        "id": "0MXZ39Bs4I4u"
      },
      "source": [
        "#select a column\n",
        "spm19[\"Pre-Weight 1\"]\n",
        "\n",
        "#select a column and run a stat\n",
        "spm19[\"Pre-Weight 1\"].sum #OR TRY .median(), .mean(), .mode(), .nunique() for numner of unique entries, .max(), .min()\n",
        "\n",
        "#select multiple columns \n",
        "spm19[[\"Pre-Weight 1\",\"Post Weight 1\"]]"
      ],
      "execution_count": null,
      "outputs": []
    },
    {
      "cell_type": "code",
      "metadata": {
        "id": "nRJUmzzd6yQv"
      },
      "source": [
        "#renaming columns by creating a dictionary \n",
        "#using inplace to change dataframe without an assignment\n",
        "spm19.rename(columns = {\"Pre-Weight 1\": \"PreW1\",\"Pre Weight 2\":\"PreW2\",\"Pre-Weight 3\": \"PreW3\",\"Average\":\"PreAvg\",\"Post Weight 1\": \"PostW1\",\"Post Weight 2\": \"PostW2\",\"Post Weight 3\": \"PostW3\",\"Post-Average\":\"PostAvg\"},inplace = True)\n",
        "spm19.head()"
      ],
      "execution_count": null,
      "outputs": []
    },
    {
      "cell_type": "code",
      "metadata": {
        "id": "K0VDW15lBOTB"
      },
      "source": [
        "#get rid of sample standard deviation data, we don't need it for this \n",
        "#df.drop(df.iloc[:, 1:3], inplace = True, axis = 1) \n",
        "mean_sic.drop(mean_sic.iloc[:,2:18:2], inplace= True, axis =1)\n"
      ],
      "execution_count": null,
      "outputs": []
    },
    {
      "cell_type": "code",
      "metadata": {
        "id": "GDtw6pVCKBlW"
      },
      "source": [
        "mean_sic"
      ],
      "execution_count": null,
      "outputs": []
    },
    {
      "cell_type": "markdown",
      "metadata": {
        "id": "Oeb3AuGj127E"
      },
      "source": [
        "#Make some Plots! "
      ]
    },
    {
      "cell_type": "code",
      "metadata": {
        "id": "E0dxykdn1K3M",
        "colab": {
          "base_uri": "https://localhost:8080/",
          "height": 312
        },
        "outputId": "14c0c954-4f55-421a-a0f1-1ae438a2bf8e"
      },
      "source": [
        "#scatter plot! \n",
        "spm19.plot.scatter(x = \"PreW1\", y = \"PreAvg\", c = 'red', title = 'PreWeight 1 and PreW Average') \n",
        "# x for x parameter , y for y parameter,  c for color of point "
      ],
      "execution_count": 9,
      "outputs": [
        {
          "output_type": "execute_result",
          "data": {
            "text/plain": [
              "<matplotlib.axes._subplots.AxesSubplot at 0x7ff2c5601a20>"
            ]
          },
          "metadata": {
            "tags": []
          },
          "execution_count": 9
        },
        {
          "output_type": "display_data",
          "data": {
            "image/png": "[encoded data removed]",
            "text/plain": [
              "<Figure size 432x288 with 1 Axes>"
            ]
          },
          "metadata": {
            "tags": [],
            "needs_background": "light"
          }
        }
      ]
    },
    {
      "cell_type": "code",
      "metadata": {
        "id": "YPdE2sG3BGdk",
        "colab": {
          "base_uri": "https://localhost:8080/",
          "height": 298
        },
        "outputId": "3b0fd382-d867-4017-96ee-f4426c793847"
      },
      "source": [
        "#box plot!\n",
        "#create a subset of the data uisng iloc and selecting on the the three pre-weight columns\n",
        "preweights = spm19.iloc[ :12,4:7]\n",
        "preweights.plot.box(color = 'green', title = 'PreWeights 1,2,3 BoxPlot')"
      ],
      "execution_count": 10,
      "outputs": [
        {
          "output_type": "execute_result",
          "data": {
            "text/plain": [
              "<matplotlib.axes._subplots.AxesSubplot at 0x7ff2c53b8cf8>"
            ]
          },
          "metadata": {
            "tags": []
          },
          "execution_count": 10
        },
        {
          "output_type": "display_data",
          "data": {
            "image/png": "[encoded data removed]",
            "text/plain": [
              "<Figure size 432x288 with 1 Axes>"
            ]
          },
          "metadata": {
            "tags": [],
            "needs_background": "light"
          }
        }
      ]
    },
    {
      "cell_type": "code",
      "metadata": {
        "id": "9ZoEpmezCZ1N",
        "colab": {
          "base_uri": "https://localhost:8080/",
          "height": 283
        },
        "outputId": "ae20f46b-6e4f-432c-82e5-ee8b4b21bd30"
      },
      "source": [
        "preweights.plot.line()"
      ],
      "execution_count": null,
      "outputs": [
        {
          "output_type": "execute_result",
          "data": {
            "text/plain": [
              "<matplotlib.axes._subplots.AxesSubplot at 0x7f3d69585dd8>"
            ]
          },
          "metadata": {
            "tags": []
          },
          "execution_count": 91
        },
        {
          "output_type": "display_data",
          "data": {
            "image/png": "[encoded data removed]",
            "text/plain": [
              "<Figure size 432x288 with 1 Axes>"
            ]
          },
          "metadata": {
            "tags": [],
            "needs_background": "light"
          }
        }
      ]
    }
  ]
}